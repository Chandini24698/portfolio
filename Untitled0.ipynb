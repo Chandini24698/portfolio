{
  "nbformat": 4,
  "nbformat_minor": 0,
  "metadata": {
    "colab": {
      "provenance": [],
      "authorship_tag": "ABX9TyMRHxhwi8j4nbCvtvv/W1KF",
      "include_colab_link": true
    },
    "kernelspec": {
      "name": "python3",
      "display_name": "Python 3"
    },
    "language_info": {
      "name": "python"
    }
  },
  "cells": [
    {
      "cell_type": "markdown",
      "metadata": {
        "id": "view-in-github",
        "colab_type": "text"
      },
      "source": [
        "<a href=\"https://colab.research.google.com/github/Chandini24698/portfolio/blob/main/Untitled0.ipynb\" target=\"_parent\"><img src=\"https://colab.research.google.com/assets/colab-badge.svg\" alt=\"Open In Colab\"/></a>"
      ]
    },
    {
      "cell_type": "code",
      "execution_count": 1,
      "metadata": {
        "colab": {
          "base_uri": "https://localhost:8080/"
        },
        "id": "5qNNspZ_JXe6",
        "outputId": "47116cbc-3fb4-4242-ea9e-4b0d55e06dc2"
      },
      "outputs": [
        {
          "output_type": "stream",
          "name": "stdout",
          "text": [
            "Hello, Google Colab!\n"
          ]
        }
      ],
      "source": [
        "print(\"Hello, Google Colab!\")"
      ]
    },
    {
      "cell_type": "code",
      "source": [
        "!pip install numpy pandas matplotlib"
      ],
      "metadata": {
        "colab": {
          "base_uri": "https://localhost:8080/"
        },
        "id": "yzfDznlKJfn0",
        "outputId": "de4623a5-6c71-45c1-a0aa-63a8655ea07c"
      },
      "execution_count": 2,
      "outputs": [
        {
          "output_type": "stream",
          "name": "stdout",
          "text": [
            "Requirement already satisfied: numpy in /usr/local/lib/python3.12/dist-packages (2.0.2)\n",
            "Requirement already satisfied: pandas in /usr/local/lib/python3.12/dist-packages (2.2.2)\n",
            "Requirement already satisfied: matplotlib in /usr/local/lib/python3.12/dist-packages (3.10.0)\n",
            "Requirement already satisfied: python-dateutil>=2.8.2 in /usr/local/lib/python3.12/dist-packages (from pandas) (2.9.0.post0)\n",
            "Requirement already satisfied: pytz>=2020.1 in /usr/local/lib/python3.12/dist-packages (from pandas) (2025.2)\n",
            "Requirement already satisfied: tzdata>=2022.7 in /usr/local/lib/python3.12/dist-packages (from pandas) (2025.2)\n",
            "Requirement already satisfied: contourpy>=1.0.1 in /usr/local/lib/python3.12/dist-packages (from matplotlib) (1.3.3)\n",
            "Requirement already satisfied: cycler>=0.10 in /usr/local/lib/python3.12/dist-packages (from matplotlib) (0.12.1)\n",
            "Requirement already satisfied: fonttools>=4.22.0 in /usr/local/lib/python3.12/dist-packages (from matplotlib) (4.59.2)\n",
            "Requirement already satisfied: kiwisolver>=1.3.1 in /usr/local/lib/python3.12/dist-packages (from matplotlib) (1.4.9)\n",
            "Requirement already satisfied: packaging>=20.0 in /usr/local/lib/python3.12/dist-packages (from matplotlib) (25.0)\n",
            "Requirement already satisfied: pillow>=8 in /usr/local/lib/python3.12/dist-packages (from matplotlib) (11.3.0)\n",
            "Requirement already satisfied: pyparsing>=2.3.1 in /usr/local/lib/python3.12/dist-packages (from matplotlib) (3.2.3)\n",
            "Requirement already satisfied: six>=1.5 in /usr/local/lib/python3.12/dist-packages (from python-dateutil>=2.8.2->pandas) (1.17.0)\n"
          ]
        }
      ]
    },
    {
      "cell_type": "code",
      "source": [
        "print(\"Hello, my name is Chandini\")"
      ],
      "metadata": {
        "colab": {
          "base_uri": "https://localhost:8080/"
        },
        "id": "NbN2yvK3LpfT",
        "outputId": "c54805e2-5404-4e55-f40c-3f1534981034"
      },
      "execution_count": 3,
      "outputs": [
        {
          "output_type": "stream",
          "name": "stdout",
          "text": [
            "Hello, my name is Chandini\n"
          ]
        }
      ]
    },
    {
      "cell_type": "code",
      "source": [
        "print(\"Hello, my name is Chandini\\nWelcome to Python Learning!\")\n"
      ],
      "metadata": {
        "colab": {
          "base_uri": "https://localhost:8080/"
        },
        "id": "Kv0OKgFVLr3i",
        "outputId": "1af7fbb8-22a2-4c8c-b398-3ec1ad88e9f7"
      },
      "execution_count": 6,
      "outputs": [
        {
          "output_type": "stream",
          "name": "stdout",
          "text": [
            "Hello, my name is Chandini\n",
            "Welcome to Python Learning!\n"
          ]
        }
      ]
    },
    {
      "cell_type": "code",
      "source": [
        "#I am 27 years old and I live in Berlin.\n",
        "age=27\n",
        "city = \"Berlin\"\n",
        "print(\"I am {} years old and I live in {}.\".format(age,city))"
      ],
      "metadata": {
        "colab": {
          "base_uri": "https://localhost:8080/"
        },
        "id": "5G4POUZ_MZV0",
        "outputId": "091235b2-2ef1-40c9-d99f-83dfd40b04b8"
      },
      "execution_count": 15,
      "outputs": [
        {
          "output_type": "stream",
          "name": "stdout",
          "text": [
            "I am 27 years old and I live in Berlin.\n"
          ]
        }
      ]
    },
    {
      "cell_type": "code",
      "source": [
        "#Input (example):\n",
        "\n",
        "name = \"Alice\"       # string\n",
        "age = 25             # integer\n",
        "height = 5.6         # float\n",
        "is_student = True    # boolean\n",
        "print(type(name))\n",
        "print(type(age))\n",
        "print(type(height))\n",
        "print(type(is_student))\n",
        "\n",
        "\n",
        "\n"
      ],
      "metadata": {
        "colab": {
          "base_uri": "https://localhost:8080/"
        },
        "id": "8ow7kp4HVB4M",
        "outputId": "3b59da75-6637-406a-b809-cb333fb01f16"
      },
      "execution_count": 19,
      "outputs": [
        {
          "output_type": "stream",
          "name": "stdout",
          "text": [
            "<class 'str'>\n",
            "<class 'int'>\n",
            "<class 'float'>\n",
            "<class 'bool'>\n"
          ]
        }
      ]
    },
    {
      "cell_type": "code",
      "source": [
        "favourite_colour=input(\"Enter your favorite color: \")\n",
        "print(f\"Your favorite color is {favourite_colour}!\")"
      ],
      "metadata": {
        "colab": {
          "base_uri": "https://localhost:8080/"
        },
        "id": "QGAOTTbkXp8w",
        "outputId": "3c536d99-9c83-460d-ee47-b38fe79f15d3"
      },
      "execution_count": 21,
      "outputs": [
        {
          "output_type": "stream",
          "name": "stdout",
          "text": [
            "Enter your favorite color: Blue\n",
            "Your favorite color is Blue!\n"
          ]
        }
      ]
    },
    {
      "cell_type": "code",
      "source": [
        "favourite_color=input(\"Choose your Favourite colour:\")\n",
        "favourite_subject=input(\"tell your favourite subject:\")\n",
        "print(f\"My favourite colour is {favourite_color} and favourite subject is {favourite_subject}!\")"
      ],
      "metadata": {
        "colab": {
          "base_uri": "https://localhost:8080/"
        },
        "id": "79wxwQ9AMb0j",
        "outputId": "99f7aba1-f10c-46a4-ff14-3dc129f727fd"
      },
      "execution_count": 23,
      "outputs": [
        {
          "output_type": "stream",
          "name": "stdout",
          "text": [
            "Choose your Favourite colour:blue\n",
            "tell your favourite subject:science\n",
            "My favourite colour is blue and favourite subject is science!\n"
          ]
        }
      ]
    },
    {
      "cell_type": "code",
      "source": [
        "var1=10\n",
        "var2=20\n",
        "result=var1+var2\n",
        "print(f\"The sum is :{result}\")"
      ],
      "metadata": {
        "colab": {
          "base_uri": "https://localhost:8080/"
        },
        "id": "HYhONRdyZZ51",
        "outputId": "14e685a5-8697-4ff2-827b-d8957eb29b7c"
      },
      "execution_count": 29,
      "outputs": [
        {
          "output_type": "stream",
          "name": "stdout",
          "text": [
            "The sum is :30\n"
          ]
        }
      ]
    },
    {
      "cell_type": "code",
      "source": [
        "\n",
        "\n",
        "Name = \"Rohan\"\n",
        "Age =22\n",
        "print(\"Hello {},you are {} years old.\".format(Name,Age))\n",
        "\n",
        "\n"
      ],
      "metadata": {
        "colab": {
          "base_uri": "https://localhost:8080/"
        },
        "id": "4lw26xOqaYCE",
        "outputId": "49ae9963-3010-46f0-dbdf-d4d45b78604f"
      },
      "execution_count": 32,
      "outputs": [
        {
          "output_type": "stream",
          "name": "stdout",
          "text": [
            "Hello Rohan,you are 22 years old.\n"
          ]
        }
      ]
    }
  ]
}