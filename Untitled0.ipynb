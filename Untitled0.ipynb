{
  "nbformat": 4,
  "nbformat_minor": 0,
  "metadata": {
    "colab": {
      "provenance": [],
      "authorship_tag": "ABX9TyO8txfo0fkZQI1nIiQtLOHc",
      "include_colab_link": true
    },
    "kernelspec": {
      "name": "python3",
      "display_name": "Python 3"
    },
    "language_info": {
      "name": "python"
    }
  },
  "cells": [
    {
      "cell_type": "markdown",
      "metadata": {
        "id": "view-in-github",
        "colab_type": "text"
      },
      "source": [
        "<a href=\"https://colab.research.google.com/github/Chandini24698/portfolio/blob/main/Untitled0.ipynb\" target=\"_parent\"><img src=\"https://colab.research.google.com/assets/colab-badge.svg\" alt=\"Open In Colab\"/></a>"
      ]
    },
    {
      "cell_type": "code",
      "execution_count": null,
      "metadata": {
        "colab": {
          "base_uri": "https://localhost:8080/"
        },
        "id": "5qNNspZ_JXe6",
        "outputId": "47116cbc-3fb4-4242-ea9e-4b0d55e06dc2"
      },
      "outputs": [
        {
          "output_type": "stream",
          "name": "stdout",
          "text": [
            "Hello, Google Colab!\n"
          ]
        }
      ],
      "source": [
        "print(\"Hello, Google Colab!\")"
      ]
    },
    {
      "cell_type": "code",
      "source": [
        "!pip install numpy pandas matplotlib"
      ],
      "metadata": {
        "colab": {
          "base_uri": "https://localhost:8080/"
        },
        "id": "yzfDznlKJfn0",
        "outputId": "de4623a5-6c71-45c1-a0aa-63a8655ea07c"
      },
      "execution_count": null,
      "outputs": [
        {
          "output_type": "stream",
          "name": "stdout",
          "text": [
            "Requirement already satisfied: numpy in /usr/local/lib/python3.12/dist-packages (2.0.2)\n",
            "Requirement already satisfied: pandas in /usr/local/lib/python3.12/dist-packages (2.2.2)\n",
            "Requirement already satisfied: matplotlib in /usr/local/lib/python3.12/dist-packages (3.10.0)\n",
            "Requirement already satisfied: python-dateutil>=2.8.2 in /usr/local/lib/python3.12/dist-packages (from pandas) (2.9.0.post0)\n",
            "Requirement already satisfied: pytz>=2020.1 in /usr/local/lib/python3.12/dist-packages (from pandas) (2025.2)\n",
            "Requirement already satisfied: tzdata>=2022.7 in /usr/local/lib/python3.12/dist-packages (from pandas) (2025.2)\n",
            "Requirement already satisfied: contourpy>=1.0.1 in /usr/local/lib/python3.12/dist-packages (from matplotlib) (1.3.3)\n",
            "Requirement already satisfied: cycler>=0.10 in /usr/local/lib/python3.12/dist-packages (from matplotlib) (0.12.1)\n",
            "Requirement already satisfied: fonttools>=4.22.0 in /usr/local/lib/python3.12/dist-packages (from matplotlib) (4.59.2)\n",
            "Requirement already satisfied: kiwisolver>=1.3.1 in /usr/local/lib/python3.12/dist-packages (from matplotlib) (1.4.9)\n",
            "Requirement already satisfied: packaging>=20.0 in /usr/local/lib/python3.12/dist-packages (from matplotlib) (25.0)\n",
            "Requirement already satisfied: pillow>=8 in /usr/local/lib/python3.12/dist-packages (from matplotlib) (11.3.0)\n",
            "Requirement already satisfied: pyparsing>=2.3.1 in /usr/local/lib/python3.12/dist-packages (from matplotlib) (3.2.3)\n",
            "Requirement already satisfied: six>=1.5 in /usr/local/lib/python3.12/dist-packages (from python-dateutil>=2.8.2->pandas) (1.17.0)\n"
          ]
        }
      ]
    },
    {
      "cell_type": "code",
      "source": [
        "print(\"Hello, my name is Chandini\")"
      ],
      "metadata": {
        "colab": {
          "base_uri": "https://localhost:8080/"
        },
        "id": "NbN2yvK3LpfT",
        "outputId": "c54805e2-5404-4e55-f40c-3f1534981034"
      },
      "execution_count": null,
      "outputs": [
        {
          "output_type": "stream",
          "name": "stdout",
          "text": [
            "Hello, my name is Chandini\n"
          ]
        }
      ]
    },
    {
      "cell_type": "code",
      "source": [
        "print(\"Hello, my name is Chandini\\nWelcome to Python Learning!\")\n"
      ],
      "metadata": {
        "colab": {
          "base_uri": "https://localhost:8080/"
        },
        "id": "Kv0OKgFVLr3i",
        "outputId": "1af7fbb8-22a2-4c8c-b398-3ec1ad88e9f7"
      },
      "execution_count": null,
      "outputs": [
        {
          "output_type": "stream",
          "name": "stdout",
          "text": [
            "Hello, my name is Chandini\n",
            "Welcome to Python Learning!\n"
          ]
        }
      ]
    },
    {
      "cell_type": "code",
      "source": [
        "#I am 27 years old and I live in Berlin.\n",
        "age=27\n",
        "city = \"Berlin\"\n",
        "print(\"I am {} years old and I live in {}.\".format(age,city))"
      ],
      "metadata": {
        "colab": {
          "base_uri": "https://localhost:8080/"
        },
        "id": "5G4POUZ_MZV0",
        "outputId": "091235b2-2ef1-40c9-d99f-83dfd40b04b8"
      },
      "execution_count": null,
      "outputs": [
        {
          "output_type": "stream",
          "name": "stdout",
          "text": [
            "I am 27 years old and I live in Berlin.\n"
          ]
        }
      ]
    },
    {
      "cell_type": "code",
      "source": [
        "#Input (example):\n",
        "\n",
        "name = \"Alice\"       # string\n",
        "age = 25             # integer\n",
        "height = 5.6         # float\n",
        "is_student = True    # boolean\n",
        "print(type(name))\n",
        "print(type(age))\n",
        "print(type(height))\n",
        "print(type(is_student))\n",
        "\n",
        "\n",
        "\n"
      ],
      "metadata": {
        "colab": {
          "base_uri": "https://localhost:8080/"
        },
        "id": "8ow7kp4HVB4M",
        "outputId": "3b59da75-6637-406a-b809-cb333fb01f16"
      },
      "execution_count": null,
      "outputs": [
        {
          "output_type": "stream",
          "name": "stdout",
          "text": [
            "<class 'str'>\n",
            "<class 'int'>\n",
            "<class 'float'>\n",
            "<class 'bool'>\n"
          ]
        }
      ]
    },
    {
      "cell_type": "code",
      "source": [
        "favourite_colour=input(\"Enter your favorite color: \")\n",
        "print(f\"Your favorite color is {favourite_colour}!\")"
      ],
      "metadata": {
        "colab": {
          "base_uri": "https://localhost:8080/"
        },
        "id": "QGAOTTbkXp8w",
        "outputId": "3c536d99-9c83-460d-ee47-b38fe79f15d3"
      },
      "execution_count": null,
      "outputs": [
        {
          "output_type": "stream",
          "name": "stdout",
          "text": [
            "Enter your favorite color: Blue\n",
            "Your favorite color is Blue!\n"
          ]
        }
      ]
    },
    {
      "cell_type": "code",
      "source": [
        "favourite_color=input(\"Choose your Favourite colour:\")\n",
        "favourite_subject=input(\"tell your favourite subject:\")\n",
        "print(f\"My favourite colour is {favourite_color} and favourite subject is {favourite_subject}!\")"
      ],
      "metadata": {
        "colab": {
          "base_uri": "https://localhost:8080/"
        },
        "id": "79wxwQ9AMb0j",
        "outputId": "99f7aba1-f10c-46a4-ff14-3dc129f727fd"
      },
      "execution_count": null,
      "outputs": [
        {
          "output_type": "stream",
          "name": "stdout",
          "text": [
            "Choose your Favourite colour:blue\n",
            "tell your favourite subject:science\n",
            "My favourite colour is blue and favourite subject is science!\n"
          ]
        }
      ]
    },
    {
      "cell_type": "code",
      "source": [
        "var1=10\n",
        "var2=20\n",
        "result=var1+var2\n",
        "print(f\"The sum is :{result}\")"
      ],
      "metadata": {
        "colab": {
          "base_uri": "https://localhost:8080/"
        },
        "id": "HYhONRdyZZ51",
        "outputId": "14e685a5-8697-4ff2-827b-d8957eb29b7c"
      },
      "execution_count": null,
      "outputs": [
        {
          "output_type": "stream",
          "name": "stdout",
          "text": [
            "The sum is :30\n"
          ]
        }
      ]
    },
    {
      "cell_type": "code",
      "source": [
        "\n",
        "\n",
        "Name = \"Rohan\"\n",
        "Age =22\n",
        "print(\"Hello {},you are {} years old.\".format(Name,Age))\n",
        "\n",
        "\n"
      ],
      "metadata": {
        "colab": {
          "base_uri": "https://localhost:8080/"
        },
        "id": "4lw26xOqaYCE",
        "outputId": "49ae9963-3010-46f0-dbdf-d4d45b78604f"
      },
      "execution_count": null,
      "outputs": [
        {
          "output_type": "stream",
          "name": "stdout",
          "text": [
            "Hello Rohan,you are 22 years old.\n"
          ]
        }
      ]
    },
    {
      "cell_type": "code",
      "source": [],
      "metadata": {
        "id": "edJWH2rrAw4U"
      },
      "execution_count": null,
      "outputs": []
    },
    {
      "cell_type": "code",
      "source": [],
      "metadata": {
        "id": "G1pESRAXAydM"
      },
      "execution_count": null,
      "outputs": []
    },
    {
      "cell_type": "code",
      "source": [
        "a=27\n",
        "c=\"berlin\"\n",
        "#print(\"I am {} years old and I live in {}.\".format(a,c))\n",
        "#print(f\"Iam {a} years old and I live in {c}\")\n",
        "print (\"Iam\" +str(a))"
      ],
      "metadata": {
        "colab": {
          "base_uri": "https://localhost:8080/"
        },
        "id": "jyiqIpw2BaLv",
        "outputId": "790c1a1d-8aa3-4b2f-f692-120dd593bd09"
      },
      "execution_count": null,
      "outputs": [
        {
          "output_type": "stream",
          "name": "stdout",
          "text": [
            "Iam27\n"
          ]
        }
      ]
    },
    {
      "cell_type": "code",
      "source": [
        "color=input(\"Enter ur fav color here: \")\n",
        "print(f\"Youe Fav color is {color} !\")"
      ],
      "metadata": {
        "colab": {
          "base_uri": "https://localhost:8080/"
        },
        "id": "m7cQdA8BDOV8",
        "outputId": "c6be02b7-58da-4870-de08-ca43421c7a66"
      },
      "execution_count": null,
      "outputs": [
        {
          "output_type": "stream",
          "name": "stdout",
          "text": [
            "Enter ur fav color here: Red\n",
            "Youe Fav color is Red !\n"
          ]
        }
      ]
    },
    {
      "cell_type": "code",
      "source": [
        "#list\n",
        "city =[\"Nagpur\",\"Delhi\",\"Chennai\",\"Erode\",\"Kerala\"]\n",
        "print(city)\n",
        "print(city[1], city[3])\n",
        "city1= 'Berlin'\n",
        "city[2]=city1\n",
        "print(city)\n",
        "city[-1]='Munich'\n",
        "print(city)\n",
        "del city[0]\n",
        "print(city)\n"
      ],
      "metadata": {
        "colab": {
          "base_uri": "https://localhost:8080/"
        },
        "id": "B1u2i1MNxZ6s",
        "outputId": "f02b8ff4-8daf-41ac-956f-049b6ce1b5e0"
      },
      "execution_count": null,
      "outputs": [
        {
          "output_type": "stream",
          "name": "stdout",
          "text": [
            "['Nagpur', 'Delhi', 'Chennai', 'Erode', 'Kerala']\n",
            "Delhi Erode\n",
            "['Nagpur', 'Delhi', 'Berlin', 'Erode', 'Kerala']\n",
            "['Nagpur', 'Delhi', 'Berlin', 'Erode', 'Munich']\n",
            "['Delhi', 'Berlin', 'Erode', 'Munich']\n"
          ]
        }
      ]
    },
    {
      "cell_type": "code",
      "source": [
        "#Tuples\n",
        "program=[\"C\",\"java\",\"python\",\"javascript\",\"selenium\"]\n",
        "print(program)\n",
        "print(program[1])\n",
        "print(program[2])\n",
        "print(program)\n",
        "program_list=list(program)\n",
        "program_list[1]=\"Kotlin\"\n",
        "program=tuple(program_list)\n",
        "print(program)\n",
        "del program\n"
      ],
      "metadata": {
        "colab": {
          "base_uri": "https://localhost:8080/"
        },
        "id": "OvvpRRww2QxH",
        "outputId": "6a80bc7f-8d33-4f1f-dfbc-5ed9afa193d9"
      },
      "execution_count": null,
      "outputs": [
        {
          "output_type": "stream",
          "name": "stdout",
          "text": [
            "['C', 'java', 'python', 'javascript', 'selenium']\n",
            "java\n",
            "python\n",
            "['C', 'java', 'python', 'javascript', 'selenium']\n",
            "('C', 'Kotlin', 'python', 'javascript', 'selenium')\n"
          ]
        }
      ]
    },
    {
      "cell_type": "code",
      "source": [
        "#Dictionary\n",
        "student={\"name\": \"chandini\" ,\"age\" : 26, \"course\" : \"German\"}\n",
        "print(student)\n",
        "student[\"age\"]=25\n",
        "student[\"grade\"]=\"A\"\n",
        "print(student)\n",
        "del student[\"course\"]\n",
        "print(student)\n",
        "student.clear()\n",
        "print(student)\n",
        "\n"
      ],
      "metadata": {
        "colab": {
          "base_uri": "https://localhost:8080/"
        },
        "id": "rvF1K5AP47WW",
        "outputId": "005cff28-d6ba-4e27-be18-f63d11dc8e91"
      },
      "execution_count": null,
      "outputs": [
        {
          "output_type": "stream",
          "name": "stdout",
          "text": [
            "{'name': 'chandini', 'age': 26, 'course': 'German'}\n",
            "{'name': 'chandini', 'age': 25, 'course': 'German', 'grade': 'A'}\n",
            "{'name': 'chandini', 'age': 25, 'grade': 'A'}\n",
            "{}\n"
          ]
        }
      ]
    },
    {
      "cell_type": "code",
      "source": [
        "fruits = [\"Apple\", \"Banana\", \"Grapes\", \"Pineapple\", \"Papaya\"]\n",
        "print(fruits)\n",
        "fruits[3]=\"Mango\"\n",
        "print(fruits)\n",
        "fruits.append(\"orange\")\n",
        "print(fruits)\n",
        "del fruits[0]\n",
        "print(fruits)\n"
      ],
      "metadata": {
        "colab": {
          "base_uri": "https://localhost:8080/"
        },
        "id": "p_rZfUps8Jo_",
        "outputId": "f9cf2d4a-b4da-4754-e513-36b4482c7027"
      },
      "execution_count": null,
      "outputs": [
        {
          "output_type": "stream",
          "name": "stdout",
          "text": [
            "['Apple', 'Banana', 'Grapes', 'Pineapple', 'Papaya']\n",
            "['Apple', 'Banana', 'Grapes', 'Mango', 'Papaya']\n",
            "['Apple', 'Banana', 'Grapes', 'Mango', 'Papaya', 'orange']\n",
            "['Banana', 'Grapes', 'Mango', 'Papaya', 'orange']\n"
          ]
        }
      ]
    },
    {
      "cell_type": "code",
      "source": [
        "from docx import Document\n",
        "\n",
        "# Create CV document\n",
        "cv = Document()\n",
        "cv.add_heading('Dharanidharan GV', 0)\n",
        "cv.add_paragraph('📍 Erlangen, Germany | 📧 dharanidharan.gv.2412@gmail.com | 📱 +49 176 27769891')\n",
        "cv.add_paragraph('🔗 LinkedIn: linkedin.com/in/dharanidharan | GitHub: github.com/dharanidharan')\n",
        "\n",
        "cv.add_heading('Profile', level=1)\n",
        "cv.add_paragraph('MSc Data Science student at FAU Erlangen-Nürnberg with 4+ years of professional experience in QA, automation, and data workflows. Skilled in Python, SQL, ETL pipelines, and dashboard development. Experienced in building automated data pipelines, validating datasets, and developing analytics solutions. Passionate about contributing to AI-driven data engineering projects in Werkstudent roles.')\n",
        "\n",
        "cv.add_heading('Core Skills', level=1)\n",
        "skills = cv.add_paragraph()\n",
        "skills.add_run('Data Engineering & Analytics: ').bold = True\n",
        "skills.add_run('Python (Pandas, NumPy), SQL, ETL pipelines, data preprocessing, dashboards, Power BI\n",
        "')\n",
        "skills.add_run('QA & Automation: ').bold = True\n",
        "skills.add_run('Automated QA pipelines, test reporting, GUI testing (Selenium/Squish), Jenkins\n",
        "')\n",
        "skills.add_run('Machine Learning: ').bold = True\n",
        "skills.add_run('Scikit-learn, TensorFlow (classification, prediction, fraud detection)\n",
        "')\n",
        "skills.add_run('Tools & Collaboration: ').bold = True\n",
        "skills.add_run('Git/GitLab, Jira, Confluence, MS Teams, Docker (basic)\n",
        "')\n",
        "skills.add_run('Languages: ').bold = True\n",
        "skills.add_run('English (Fluent), German (Basic – A2)')\n",
        "\n",
        "cv.add_heading('Professional Experience', level=1)\n",
        "experiences = [\n",
        "    ('Technology Analyst – QA & Automation | HCL Technologies, Chennai | Jun 2024 – Apr 2025', [\n",
        "        'Automated QA and reporting workflows using Python, saving 4+ hours weekly',\n",
        "        'Standardized QA documentation and processes for cross-functional teams',\n",
        "        'Integrated datasets for automated dashboards supporting team analytics'\n",
        "    ]),\n",
        "    ('Team Lead – QA & Automation | HCL Technologies, Chennai | Nov 2023 – Jun 2024', [\n",
        "        'Managed QA pipelines and automated testing for multiple projects',\n",
        "        'Implemented low-code automation solutions to optimize workflow efficiency'\n",
        "    ]),\n",
        "    ('Senior Systems Engineer – Data Analytics & Automation | HCL Technologies, Chennai | Jan 2022 – Nov 2023', [\n",
        "        'Built Python-based dashboards and validation pipelines for QA and data analytics',\n",
        "        'Optimized reporting processes through automation scripts and structured documentation'\n",
        "    ]),\n",
        "    ('Systems Engineer – Reporting & Automation | HCL Technologies, Remote | Aug 2020 – Jan 2022', [\n",
        "        'Designed automated dashboards and reports to enhance data reliability',\n",
        "        'Conducted manual and automated QA checks to ensure workflow quality'\n",
        "    ])\n",
        "]\n",
        "\n",
        "for role, tasks in experiences:\n",
        "    cv.add_paragraph(role, style='List Bullet')\n",
        "    for t in tasks:\n",
        "        cv.add_paragraph(t, style='List Number')\n",
        "\n",
        "cv.add_heading('Education', level=1)\n",
        "cv.add_paragraph('MSc Data Science | FAU Erlangen-Nürnberg, Germany | Mar 2025 – Present')\n",
        "curr_projects = cv.add_paragraph()\n",
        "curr_projects.add_run('Projects: ').bold = True\n",
        "curr_projects.add_run('Fraud detection (ML), Customer churn prediction, Image classification (CNNs)')\n",
        "cv.add_paragraph('BEng Computer Science | Sri Krishna College of Technology, India | 2015 – 2019')\n",
        "\n",
        "cv.add_heading('Projects', level=1)\n",
        "projects = [\n",
        "    'Fraud Detection with ML: Built classification models using Scikit-learn for imbalanced datasets',\n",
        "    'Customer Churn Prediction: Applied ML models to telecom data using Python & Pandas',\n",
        "    'Interactive Power BI Dashboard: Designed dashboards for business KPI visualization',\n",
        "    'ETL Pipeline Project (FAU): Automated ingestion and cleaning of structured and unstructured datasets using Python and SQL'\n",
        "]\n",
        "for p in projects:\n",
        "    cv.add_paragraph(p, style='List Bullet')\n",
        "\n",
        "cv.add_heading('Interests', level=1)\n",
        "cv.add_paragraph('Data Engineering | ETL Automation | Python Scripting | Workflow Optimization | Data-Driven Insights')\n",
        "\n",
        "cv.save('/mnt/data/Dharanidharan_CV_ProSiebenSat1.docx')\n",
        "\n",
        "# Create Cover Letter document\n",
        "cover = Document()\n",
        "cover.add_heading('Dharanidharan GV', 0)\n",
        "cover.add_paragraph('📍 Erlangen, Germany | 📧 dharanidharan.gv.2412@gmail.com | 📱 +49 176 27769891')\n",
        "cover.add_paragraph('🔗 LinkedIn: linkedin.com/in/dharanidharan | GitHub: github.com/dharanidharan')\n",
        "cover.add_paragraph('Date: [Insert Date]')\n",
        "cover.add_paragraph('To: Hiring Team, ProSiebenSat.1')\n",
        "cover.add_paragraph('Subject: Application – Working Student Data Engineering')\n",
        "\n",
        "cover.add_paragraph('Dear Hiring Team,')\n",
        "cover.add_paragraph('I am currently pursuing an MSc in Data Science at FAU Erlangen-Nürnberg, where I develop ML and analytics projects involving Python, SQL, and ETL pipelines. With 4+ years of experience in IT automation and QA at HCL Technologies, I have built automated data workflows, dashboards, and validation pipelines, gaining hands-on experience with data integration and reporting.')\n",
        "cover.add_paragraph('I am excited by the opportunity to contribute to ProSiebenSat.1’s Strategy & AI Innovation team, supporting AI integration and building efficient data pipelines for marketing applications. My experience in Python, SQL, ETL, and dashboard development aligns well with your focus on ingesting and processing large datasets, optimizing pipelines, and implementing proof-of-concepts for AI tools.')\n",
        "cover.add_paragraph('I am available for 20 hours per week and eager to bring my technical expertise, problem-solving skills, and enthusiasm for data-driven innovation to your team. I would welcome the opportunity to discuss how I can contribute to your projects.')\n",
        "cover.add_paragraph('Thank you for considering my application.')\n",
        "cover.add_paragraph('Best regards,')\n",
        "cover.add_paragraph('Dharanidharan GV')\n",
        "\n",
        "cover.save('/mnt/data/Dharanidharan_CoverLetter_ProSiebenSat1.docx')\n"
      ],
      "metadata": {
        "colab": {
          "base_uri": "https://localhost:8080/",
          "height": 106
        },
        "id": "7rQuUVzL9T-v",
        "outputId": "cf96b429-bb77-419a-e69c-97dc3ec54023"
      },
      "execution_count": null,
      "outputs": [
        {
          "output_type": "error",
          "ename": "SyntaxError",
          "evalue": "unterminated string literal (detected at line 15) (ipython-input-2250195281.py, line 15)",
          "traceback": [
            "\u001b[0;36m  File \u001b[0;32m\"/tmp/ipython-input-2250195281.py\"\u001b[0;36m, line \u001b[0;32m15\u001b[0m\n\u001b[0;31m    skills.add_run('Python (Pandas, NumPy), SQL, ETL pipelines, data preprocessing, dashboards, Power BI\u001b[0m\n\u001b[0m                   ^\u001b[0m\n\u001b[0;31mSyntaxError\u001b[0m\u001b[0;31m:\u001b[0m unterminated string literal (detected at line 15)\n"
          ]
        }
      ]
    },
    {
      "cell_type": "code",
      "source": [
        "#if condition\n",
        "n=7\n",
        "if n%2==0:\n",
        "  print(f\"{n} is even\")\n",
        "else:\n",
        "  print(f\"{n} is odd\")"
      ],
      "metadata": {
        "colab": {
          "base_uri": "https://localhost:8080/",
          "height": 106
        },
        "id": "JCDywnoBA07p",
        "outputId": "3e6ca913-5fc9-4f90-9244-397ebf276dfe"
      },
      "execution_count": 2,
      "outputs": [
        {
          "output_type": "error",
          "ename": "SyntaxError",
          "evalue": "expected ':' (ipython-input-1864463795.py, line 3)",
          "traceback": [
            "\u001b[0;36m  File \u001b[0;32m\"/tmp/ipython-input-1864463795.py\"\u001b[0;36m, line \u001b[0;32m3\u001b[0m\n\u001b[0;31m    if n%2==0\u001b[0m\n\u001b[0m             ^\u001b[0m\n\u001b[0;31mSyntaxError\u001b[0m\u001b[0;31m:\u001b[0m expected ':'\n"
          ]
        }
      ]
    },
    {
      "cell_type": "code",
      "source": [
        "n=7\n",
        "if n%2==0 :\n",
        "  print(f\"{n} is even\")\n",
        "else:\n",
        "   print(f\"{n} is odd\")"
      ],
      "metadata": {
        "colab": {
          "base_uri": "https://localhost:8080/"
        },
        "id": "xeyePbWIBYsz",
        "outputId": "b3d5ac51-5fba-4cdf-9c21-80d150961dc7"
      },
      "execution_count": 6,
      "outputs": [
        {
          "output_type": "stream",
          "name": "stdout",
          "text": [
            "7 is odd\n"
          ]
        }
      ]
    },
    {
      "cell_type": "code",
      "source": [
        "i=3\n",
        "\n",
        "for(i in range(1,10)):\n",
        "  print"
      ],
      "metadata": {
        "id": "_9TynSEtCOzS"
      },
      "execution_count": null,
      "outputs": []
    }
  ]
}